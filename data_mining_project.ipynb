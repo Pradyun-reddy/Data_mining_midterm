{
 "cells": [
  {
   "cell_type": "code",
   "execution_count": null,
   "id": "d26d7b50",
   "metadata": {},
   "outputs": [
    {
     "name": "stdout",
     "output_type": "stream",
     "text": [
      "choose a store!\n"
     ]
    }
   ],
   "source": [
    "import pandas as pd\n",
    "import numpy as np\n",
    "import time\n",
    "print(\"choose a store!\")\n",
    "store = input(\"select:\\n1. Amazon\\n2. BestBuy\\n3. Nike\\n4. walmart\\n5. seabra\\n\")\n",
    "if store== \"6\":\n",
    "    quit()\n",
    "    \n",
    "data_list = ['Amazon','Bestbuy', 'Nike', 'Walmart', 'Seabra']\n",
    "min_sup = int(input(\"enter the min support in percentage: \"))\n",
    "min_conf = int(input(\"enter the min confidence in percentage: \"))\n",
    "store = int(store)\n",
    "if store <1 or store > len(data_list):\n",
    "    print(\"enter a valid number\")\n",
    "    quit()\n",
    "data = pd.read_csv(\"dataset_\"+ data_list[store-1] + \".csv\")\n",
    "item = pd.read_csv(data_list[store-1] +\".csv\")\n",
    "order = sorted(item['Item'])"
   ]
  },
  {
   "cell_type": "code",
   "execution_count": null,
   "id": "3ccf7095",
   "metadata": {},
   "outputs": [],
   "source": [
    "\n",
    "dataset = data['Items'].str.split(',').apply(lambda items: [item.strip() for item in items]).tolist()\n",
    "dataset"
   ]
  },
  {
   "cell_type": "code",
   "execution_count": null,
   "id": "b8c2b63f",
   "metadata": {},
   "outputs": [],
   "source": [
    "\n",
    "\n",
    "# Convert DataFrame to list of items\n",
    "item_list = item['Item'].tolist()\n",
    "item_list\n"
   ]
  },
  {
   "cell_type": "code",
   "execution_count": null,
   "id": "eaa448c9",
   "metadata": {},
   "outputs": [],
   "source": [
    "dataset = data['Items'].str.split(',').apply(lambda items: [item.strip() for item in items]).tolist()"
   ]
  },
  {
   "cell_type": "code",
   "execution_count": null,
   "id": "f4af7e20",
   "metadata": {},
   "outputs": [],
   "source": [
    "#brute force\n",
    "from itertools import combinations\n",
    "from collections import defaultdict\n",
    "\n",
    "t_1 = time.time()\n",
    "min_support = (min_sup/100)*20\n",
    "\n",
    "# Count frequency of each itemset in transactions\n",
    "def get_frequent_itemsets(dataset, itemset_size, min_support):\n",
    "    \n",
    "    itemset_counts = defaultdict(int)\n",
    "    \n",
    "    # Count each itemset's occurrences in the transactions\n",
    "    for transaction in dataset:\n",
    "        for itemset in combinations(transaction, itemset_size):\n",
    "            itemset_counts[itemset] += 1\n",
    "\n",
    "    # Filter itemsets by minimum support\n",
    "    frequent_itemsets = {itemset: count for itemset, count in itemset_counts.items() if count >= min_support}\n",
    "\n",
    "    return frequent_itemsets\n",
    "\n",
    "# Generate all frequent itemsets\n",
    "frequent_itemsets = {}\n",
    "k = 1\n",
    "while True:\n",
    "    # Generate frequent k-itemsets\n",
    "    current_frequent_itemsets = get_frequent_itemsets(dataset, k, min_support)\n",
    "    if not current_frequent_itemsets:\n",
    "        break\n",
    "    frequent_itemsets.update(current_frequent_itemsets)\n",
    "    k += 1\n",
    "\n",
    "\n",
    "\n",
    "\n",
    "# Generate association rules\n",
    "def generate_association_rules(frequent_itemsets, min_confidence=min_conf/100):\n",
    "    rules = []\n",
    "    for itemset in frequent_itemsets:\n",
    "        if len(itemset) < 2:\n",
    "            continue\n",
    "        itemset_support = frequent_itemsets[itemset]\n",
    "        \n",
    "        # Generate all possible rules from the itemset\n",
    "        for i in range(1, len(itemset)):\n",
    "            for a in combinations(itemset, i):\n",
    "                c = tuple(item for item in itemset if item not in a)\n",
    "                if c:\n",
    "                    a_support = frequent_itemsets.get(a, 0)\n",
    "                    if a_support > 0:\n",
    "                        confidence = itemset_support / a_support\n",
    "                        if confidence >= min_confidence:\n",
    "                            rules.append((a, c, confidence))\n",
    "\n",
    "    return rules\n",
    "\n",
    "\n",
    "\n",
    "print(\"Frequent Itemsets:\")\n",
    "\n",
    "for itemset, count in frequent_itemsets.items():\n",
    "    print(f\"{itemset}: {count}\")\n",
    "    \n"
   ]
  },
  {
   "cell_type": "code",
   "execution_count": null,
   "id": "b018c5d1",
   "metadata": {},
   "outputs": [],
   "source": [
    "# Print association rules\n",
    "association_rules = generate_association_rules(frequent_itemsets)\n",
    "print(\"\\nAssociation Rules:\")\n",
    "for a, c, confidence in association_rules:\n",
    "    print(f\"{a} -> {c} (Confidence: {confidence:.2f})\")\n",
    "b_t = time.time() - t_1\n"
   ]
  },
  {
   "cell_type": "code",
   "execution_count": null,
   "id": "6a32842a",
   "metadata": {},
   "outputs": [],
   "source": [
    "#apriori\n",
    "!pip install apriori_python\n",
    "!pip install pyfpgrowth --upgrade\n",
    "from apriori_python.apriori import apriori\n",
    "\n",
    "mins = min_sup/100\n",
    "minc = min_conf/100\n",
    "t_2 = time.time()\n",
    "freqitemset, rules = apriori(dataset, minSup=mins, minConf = minc)\n",
    "for i, rule in enumerate(rules):\n",
    "    print(f\"rule {i+1}: {rule}\\n\")\n",
    "a_t = time.time() - t_2"
   ]
  },
  {
   "cell_type": "code",
   "execution_count": null,
   "id": "59298d41",
   "metadata": {},
   "outputs": [],
   "source": [
    "#fp growth\n",
    "import pyfpgrowth"
   ]
  },
  {
   "cell_type": "code",
   "execution_count": null,
   "id": "b0084f2e",
   "metadata": {},
   "outputs": [],
   "source": [
    "transactions = dataset"
   ]
  },
  {
   "cell_type": "code",
   "execution_count": null,
   "id": "0686a9bd",
   "metadata": {},
   "outputs": [],
   "source": [
    "t_3 = time.time()\n",
    "patterns = pyfpgrowth.find_frequent_patterns(transactions, (min_sup/100)*20)\n",
    "patterns\n",
    "f_t = time.time() - t_3\n"
   ]
  },
  {
   "cell_type": "code",
   "execution_count": 54,
   "id": "29430729",
   "metadata": {},
   "outputs": [
    {
     "data": {
      "text/plain": [
       "{('Head First Java 2nd Edition',): (('Android Programming: The Big Nerd Ranch',),\n",
       "  0.75),\n",
       " ('Android Programming: The Big Nerd Ranch',\n",
       "  'Java: The Complete Reference'): (('Java For Dummies',), 1.0),\n",
       " ('A Beginner’s Guide',\n",
       "  'Java For Dummies'): (('Java: The Complete Reference',), 1.0),\n",
       " ('A Beginner’s Guide',\n",
       "  'Java: The Complete Reference'): (('Java For Dummies',), 1.0),\n",
       " ('Java For Dummies',\n",
       "  'Java: The Complete Reference'): (('A Beginner’s Guide',), 0.9),\n",
       " ('Java For Dummies',): (('Java: The Complete Reference',),\n",
       "  0.7692307692307693)}"
      ]
     },
     "execution_count": 54,
     "metadata": {},
     "output_type": "execute_result"
    }
   ],
   "source": [
    "rules = pyfpgrowth.generate_association_rules(patterns, min_conf/100)\n",
    "rules"
   ]
  },
  {
   "cell_type": "code",
   "execution_count": 56,
   "id": "92f2db6a",
   "metadata": {},
   "outputs": [
    {
     "name": "stdout",
     "output_type": "stream",
     "text": [
      "brute force time:/t\n",
      "10.166096210479736\n",
      "apriori time:/t\n",
      "0.00067901611328125\n",
      "fp tree time:/t\n",
      "0.0005209445953369141\n"
     ]
    }
   ],
   "source": [
    "#time comparison of three algorithms\n",
    "print(\"brute force time:/t\")\n",
    "print(b_t)\n",
    "print(\"apriori time:/t\")\n",
    "print(a_t)\n",
    "print(\"fp tree time:/t\")\n",
    "print(f_t)\n"
   ]
  },
  {
   "cell_type": "code",
   "execution_count": null,
   "id": "a815460b",
   "metadata": {},
   "outputs": [],
   "source": []
  }
 ],
 "metadata": {
  "kernelspec": {
   "display_name": "Python 3 (ipykernel)",
   "language": "python",
   "name": "python3"
  },
  "language_info": {
   "codemirror_mode": {
    "name": "ipython",
    "version": 3
   },
   "file_extension": ".py",
   "mimetype": "text/x-python",
   "name": "python",
   "nbconvert_exporter": "python",
   "pygments_lexer": "ipython3",
   "version": "3.11.4"
  }
 },
 "nbformat": 4,
 "nbformat_minor": 5
}
