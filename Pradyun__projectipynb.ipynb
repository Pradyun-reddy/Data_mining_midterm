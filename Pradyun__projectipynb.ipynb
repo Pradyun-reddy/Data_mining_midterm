{
  "cells": [
    {
      "cell_type": "code",
      "source": [
        "!pip install mlxtend\n",
        "import pandas as pd\n",
        "from itertools import combinations\n",
        "from mlxtend.frequent_patterns import apriori, association_rules\n",
        "from mlxtend.frequent_patterns import fpgrowth\n",
        "import time\n"
      ],
      "metadata": {
        "id": "4L4qPcL6T0Ad"
      },
      "id": "4L4qPcL6T0Ad",
      "execution_count": null,
      "outputs": []
    },
    {
      "cell_type": "code",
      "source": [
        "# Define product lists for different stores: Walmart, Target, and Costco\n",
        "walmart_items = [\n",
        "    \"Headphones\", \"Smart TV\", \"Tablet\", \"Fitness Tracker\",\n",
        "    \"Bluetooth Speaker\", \"E-Reader\", \"USB Cable\", \"Smart Light Bulb\",\n",
        "    \"External SSD\", \"Video Game Console\"\n",
        "]\n",
        "\n",
        "target_items = [\n",
        "    \"Bedding\", \"Kitchen Appliances\", \"Cookware\",\n",
        "    \"Bath Towels\", \"Wall Art\", \"Laundry Hamper\",\n",
        "    \"Storage Bins\", \"Garden Supplies\", \"Air Fryer\",\n",
        "    \"Coffee Machine\"\n",
        "]\n",
        "\n",
        "costco_items = [\n",
        "    \"Television\", \"Gaming Console\", \"Laptop\", \"Wi-Fi Router\",\n",
        "    \"Noise-Canceling Headphones\", \"Smartwatch\", \"Portable Speaker\",\n",
        "    \"SSD Drive\", \"Home Theater\", \"Video Doorbell\"\n",
        "]\n"
      ],
      "metadata": {
        "colab": {
          "base_uri": "https://localhost:8080/"
        },
        "id": "jxCqx9b3T004",
        "outputId": "5a8d06aa-f186-4783-91ed-46030e3d55aa"
      },
      "id": "jxCqx9b3T004",
      "execution_count": 5,
      "outputs": [
        {
          "output_type": "stream",
          "name": "stderr",
          "text": [
            "/usr/local/lib/python3.10/dist-packages/ipykernel/ipkernel.py:283: DeprecationWarning: `should_run_async` will not call `transform_cell` automatically in the future. Please pass the result to `transformed_cell` argument and any exception that happen during thetransform in `preprocessing_exc_tuple` in IPython 7.17 and above.\n",
            "  and should_run_async(code)\n"
          ]
        }
      ]
    },
    {
      "cell_type": "code",
      "source": [
        "# Transactions for each store\n",
        "store_transactions = {\n",
        "    \"Walmart\": [\n",
        "        [\"Headphones\", \"Fitness Tracker\", \"Bluetooth Speaker\"],\n",
        "        [\"Smart TV\", \"Tablet\"],\n",
        "        [\"Smart Light Bulb\", \"External SSD\"],\n",
        "        [\"Video Game Console\", \"Headphones\", \"Fitness Tracker\"],\n",
        "        [\"Bluetooth Speaker\", \"Smart TV\"],\n",
        "        [\"Tablet\", \"USB Cable\"],\n",
        "        [\"Headphones\", \"E-Reader\"],\n",
        "        [\"Fitness Tracker\", \"Video Game Console\"],\n",
        "        [\"Smart Light Bulb\", \"Bluetooth Speaker\"],\n",
        "        [\"External SSD\", \"Tablet\"]\n",
        "    ],\n",
        "    \"Target\": [\n",
        "        [\"Bedding\", \"Kitchen Appliances\", \"Bath Towels\"],\n",
        "        [\"Cookware\", \"Air Fryer\"],\n",
        "        [\"Wall Art\", \"Laundry Hamper\"],\n",
        "        [\"Storage Bins\", \"Garden Supplies\", \"Coffee Machine\"],\n",
        "        [\"Bedding\", \"Laundry Hamper\"],\n",
        "        [\"Kitchen Appliances\", \"Bath Towels\"],\n",
        "        [\"Air Fryer\", \"Storage Bins\"],\n",
        "        [\"Coffee Machine\", \"Wall Art\"],\n",
        "        [\"Garden Supplies\", \"Bedding\"],\n",
        "        [\"Bath Towels\", \"Kitchen Appliances\"]\n",
        "    ],\n",
        "    \"Costco\": [\n",
        "        [\"Television\", \"Gaming Console\", \"Wi-Fi Router\"],\n",
        "        [\"Laptop\", \"Noise-Canceling Headphones\"],\n",
        "        [\"Smartwatch\", \"Portable Speaker\"],\n",
        "        [\"SSD Drive\", \"Home Theater\", \"Video Doorbell\"],\n",
        "        [\"Television\", \"Laptop\"],\n",
        "        [\"Wi-Fi Router\", \"Smartwatch\"],\n",
        "        [\"Noise-Canceling Headphones\", \"Gaming Console\"],\n",
        "        [\"Portable Speaker\", \"Video Doorbell\"],\n",
        "        [\"SSD Drive\", \"Home Theater\"],\n",
        "        [\"Smartwatch\", \"Gaming Console\"]\n",
        "    ]\n",
        "}"
      ],
      "metadata": {
        "colab": {
          "base_uri": "https://localhost:8080/"
        },
        "id": "EMXT2Q41T459",
        "outputId": "78b90329-980e-4f88-ca3f-5c13663f92b6"
      },
      "id": "EMXT2Q41T459",
      "execution_count": 6,
      "outputs": [
        {
          "output_type": "stream",
          "name": "stderr",
          "text": [
            "/usr/local/lib/python3.10/dist-packages/ipykernel/ipkernel.py:283: DeprecationWarning: `should_run_async` will not call `transform_cell` automatically in the future. Please pass the result to `transformed_cell` argument and any exception that happen during thetransform in `preprocessing_exc_tuple` in IPython 7.17 and above.\n",
            "  and should_run_async(code)\n"
          ]
        }
      ]
    },
    {
      "cell_type": "code",
      "source": [
        "# Get user input for minimum support and confidence\n",
        "min_support = float(input(\"Enter minimum support  \"))\n",
        "min_confidence = float(input(\"Enter minimum confidence  \"))"
      ],
      "metadata": {
        "colab": {
          "base_uri": "https://localhost:8080/"
        },
        "id": "qoCN4PmTT-7F",
        "outputId": "831990bd-d737-4fe2-ff7a-ef74f62f0145"
      },
      "id": "qoCN4PmTT-7F",
      "execution_count": 8,
      "outputs": [
        {
          "output_type": "stream",
          "name": "stderr",
          "text": [
            "/usr/local/lib/python3.10/dist-packages/ipykernel/ipkernel.py:283: DeprecationWarning: `should_run_async` will not call `transform_cell` automatically in the future. Please pass the result to `transformed_cell` argument and any exception that happen during thetransform in `preprocessing_exc_tuple` in IPython 7.17 and above.\n",
            "  and should_run_async(code)\n"
          ]
        },
        {
          "name": "stdout",
          "output_type": "stream",
          "text": [
            "Enter minimum support (e.g., 0.2): 0.2\n",
            "Enter minimum confidence (e.g., 0.7): 0.7\n"
          ]
        }
      ]
    },
    {
      "cell_type": "code",
      "source": [
        "# Convert transactions into a binary-encoded DataFrame for algorithms\n",
        "def convert_transactions(transactions, products):\n",
        "    encoded_data = []\n",
        "    for transaction in transactions:\n",
        "        encoded_transaction = {product: (product in transaction) for product in products}\n",
        "        encoded_data.append(encoded_transaction)\n",
        "    return pd.DataFrame(encoded_data)"
      ],
      "metadata": {
        "colab": {
          "base_uri": "https://localhost:8080/"
        },
        "id": "yXCY_nrrUKX0",
        "outputId": "43a88764-a58f-454a-9a12-c4a4f7144493"
      },
      "id": "yXCY_nrrUKX0",
      "execution_count": 9,
      "outputs": [
        {
          "output_type": "stream",
          "name": "stderr",
          "text": [
            "/usr/local/lib/python3.10/dist-packages/ipykernel/ipkernel.py:283: DeprecationWarning: `should_run_async` will not call `transform_cell` automatically in the future. Please pass the result to `transformed_cell` argument and any exception that happen during thetransform in `preprocessing_exc_tuple` in IPython 7.17 and above.\n",
            "  and should_run_async(code)\n"
          ]
        }
      ]
    },
    {
      "cell_type": "code",
      "source": [
        "\n",
        "\n",
        "# Exhaustive Search Implementation\n",
        "def exhaustive_search(transactions, products, min_support):\n",
        "    start = time.time()\n",
        "\n",
        "    # Helper function to compute support for a given itemset\n",
        "    def support_calculation(itemset, transactions):\n",
        "        count = 0\n",
        "        for transaction in transactions:\n",
        "            if itemset.issubset(transaction):\n",
        "                count += 1\n",
        "        return count / len(transactions)\n",
        "\n",
        "    # Helper function to find frequent itemsets of a certain size\n",
        "    def find_frequent_itemsets(products, transactions, size, min_support):\n",
        "        itemsets = [set(combo) for combo in combinations(products, size)]\n",
        "        frequent_itemsets = []\n",
        "        for itemset in itemsets:\n",
        "            support = support_calculation(itemset, transactions)\n",
        "            if support >= min_support:\n",
        "                frequent_itemsets.append((itemset, support))\n",
        "        return frequent_itemsets\n",
        "\n",
        "    # Start with single itemsets and increase size iteratively\n",
        "    k = 1\n",
        "    frequent_itemsets = []\n",
        "    while True:\n",
        "        current_itemsets = find_frequent_itemsets(products, transactions, k, min_support)\n",
        "        if not current_itemsets:\n",
        "            break\n",
        "        frequent_itemsets.extend(current_itemsets)\n",
        "        k += 1\n",
        "\n",
        "    # Generate association rules from frequent itemsets\n",
        "    rules = []\n",
        "    for itemset, support in frequent_itemsets:\n",
        "        if len(itemset) > 1:\n",
        "            for consequent in itemset:\n",
        "                antecedent = itemset - {consequent}\n",
        "                if antecedent:\n",
        "                    confidence = support_calculation(itemset, transactions) / support_calculation(antecedent, transactions)\n",
        "                    if confidence >= min_confidence:\n",
        "                        rules.append((list(antecedent), list(consequent), confidence, support))\n",
        "\n",
        "    total_time = time.time() - start\n",
        "    return frequent_itemsets, rules, total_time"
      ],
      "metadata": {
        "colab": {
          "base_uri": "https://localhost:8080/"
        },
        "id": "2NhOBiuaUNNF",
        "outputId": "51075146-ff72-47ab-9296-3ff55566d670"
      },
      "id": "2NhOBiuaUNNF",
      "execution_count": 13,
      "outputs": [
        {
          "output_type": "stream",
          "name": "stderr",
          "text": [
            "/usr/local/lib/python3.10/dist-packages/ipykernel/ipkernel.py:283: DeprecationWarning: `should_run_async` will not call `transform_cell` automatically in the future. Please pass the result to `transformed_cell` argument and any exception that happen during thetransform in `preprocessing_exc_tuple` in IPython 7.17 and above.\n",
            "  and should_run_async(code)\n"
          ]
        }
      ]
    },
    {
      "cell_type": "code",
      "source": [
        "# Apriori Algorithm\n",
        "def apriori_method(df, min_support, min_confidence):\n",
        "    start = time.time()\n",
        "    frequent_itemsets = apriori(df, min_support=min_support, use_colnames=True)\n",
        "    rules = association_rules(frequent_itemsets, metric=\"confidence\", min_threshold=min_confidence)\n",
        "    rules['antecedents'] = rules['antecedents'].apply(lambda x: list(x))\n",
        "    rules['consequents'] = rules['consequents'].apply(lambda x: list(x))\n",
        "    apriori_time = time.time() - start\n",
        "    return frequent_itemsets, rules, apriori_time"
      ],
      "metadata": {
        "colab": {
          "base_uri": "https://localhost:8080/"
        },
        "id": "s054xo_AUqFp",
        "outputId": "87506490-d62d-41d7-98d9-e88bd0371809"
      },
      "id": "s054xo_AUqFp",
      "execution_count": 14,
      "outputs": [
        {
          "output_type": "stream",
          "name": "stderr",
          "text": [
            "/usr/local/lib/python3.10/dist-packages/ipykernel/ipkernel.py:283: DeprecationWarning: `should_run_async` will not call `transform_cell` automatically in the future. Please pass the result to `transformed_cell` argument and any exception that happen during thetransform in `preprocessing_exc_tuple` in IPython 7.17 and above.\n",
            "  and should_run_async(code)\n"
          ]
        }
      ]
    },
    {
      "cell_type": "code",
      "source": [
        "# FP-Growth Algorithm\n",
        "def fpgrowth_method(df, min_support, min_confidence):\n",
        "    start = time.time()\n",
        "    frequent_itemsets = fpgrowth(df, min_support=min_support, use_colnames=True)\n",
        "    rules = association_rules(frequent_itemsets, metric=\"confidence\", min_threshold=min_confidence)\n",
        "    rules['antecedents'] = rules['antecedents'].apply(lambda x: list(x))\n",
        "    rules['consequents'] = rules['consequents'].apply(lambda x: list(x))\n",
        "    fpgrowth_time = time.time() - start\n",
        "    return frequent_itemsets, rules, fpgrowth_time"
      ],
      "metadata": {
        "colab": {
          "base_uri": "https://localhost:8080/"
        },
        "id": "gJk2Rx0cUxQ9",
        "outputId": "4c4f3e59-f3ce-4a56-f42f-020bc558e3ca"
      },
      "id": "gJk2Rx0cUxQ9",
      "execution_count": 15,
      "outputs": [
        {
          "output_type": "stream",
          "name": "stderr",
          "text": [
            "/usr/local/lib/python3.10/dist-packages/ipykernel/ipkernel.py:283: DeprecationWarning: `should_run_async` will not call `transform_cell` automatically in the future. Please pass the result to `transformed_cell` argument and any exception that happen during thetransform in `preprocessing_exc_tuple` in IPython 7.17 and above.\n",
            "  and should_run_async(code)\n"
          ]
        }
      ]
    },
    {
      "cell_type": "code",
      "source": [
        "# Function to compare algorithms\n",
        "def compare_methods(store_transactions, store_items, min_support, min_confidence):\n",
        "    for store, transactions in store_transactions.items():\n",
        "        print(f\"\\n--- {store} ---\")\n",
        "        products = store_items[store]\n",
        "        transactions = [set(t) for t in transactions]\n",
        "\n",
        "        # Exhaustive Search\n",
        "        frequent_itemsets_es, rules_es, es_time = exhaustive_search(transactions, products, min_support)\n",
        "        print(f\"Exhaustive Search Time: {es_time:.4f} seconds\")\n",
        "        print(f\"Frequent Itemsets (Exhaustive Search): {frequent_itemsets_es}\")\n",
        "\n",
        "        if rules_es:\n",
        "            print(\"\\nAssociation Rules (Exhaustive Search):\")\n",
        "            for idx, (antecedent, consequent, confidence, support) in enumerate(rules_es, start=1):\n",
        "                print(f\"Rule {idx}: {antecedent} -> {consequent}\")\n",
        "                print(f\"Confidence: {confidence * 100:.2f}%\")\n",
        "                print(f\"Support: {support * 100:.2f}%\\n\")\n",
        "\n",
        "        # Apriori\n",
        "        df_encoded = convert_transactions(transactions, products)\n",
        "        frequent_itemsets_ap, rules_ap, ap_time = apriori_method(df_encoded, min_support, min_confidence)\n",
        "        print(f\"Apriori Time: {ap_time:.4f} seconds\")\n",
        "        print(f\"Frequent Itemsets (Apriori):\\n{frequent_itemsets_ap}\")\n",
        "\n",
        "        if not rules_ap.empty:\n",
        "            print(\"\\nAssociation Rules (Apriori):\")\n",
        "            for idx, row in rules_ap.iterrows():\n",
        "                print(f\"Rule {idx + 1}: {row['antecedents']} -> {row['consequents']}\")\n",
        "                print(f\"Confidence: {row['confidence'] * 100:.2f}%\")\n",
        "                print(f\"Support: {row['support'] * 100:.2f}%\\n\")\n",
        "\n",
        "        # FP-Growth\n",
        "        frequent_itemsets_fp, rules_fp, fp_time = fpgrowth_method(df_encoded, min_support, min_confidence)\n",
        "        print(f\"FP-Growth Time: {fp_time:.4f} seconds\")\n",
        "        print(f\"Frequent Itemsets (FP-Growth):\\n{frequent_itemsets_fp}\")\n",
        "\n",
        "        if not rules_fp.empty:\n",
        "            print(\"\\nAssociation Rules (FP-Growth):\")\n",
        "            for idx, row in rules_fp.iterrows():\n",
        "                print(f\"Rule {idx + 1}: {row['antecedents']} -> {row['consequents']}\")\n",
        "                print(f\"Confidence: {row['confidence'] * 100:.2f}%\")\n",
        "                print(f\"Support: {row['support'] * 100:.2f}%\\n\")\n",
        "\n",
        "# Dictionary mapping stores to their products\n",
        "store_items = {\n",
        "    \"Walmart\": walmart_items,\n",
        "    \"Target\": target_items,\n",
        "    \"Costco\": costco_items\n",
        "}\n",
        "\n",
        "# Run the comparison for Walmart, Target, and Costco\n",
        "compare_methods(store_transactions, store_items, min_support, min_confidence)"
      ],
      "metadata": {
        "colab": {
          "base_uri": "https://localhost:8080/"
        },
        "id": "htuuIYhLU1Gx",
        "outputId": "ff07aa83-935a-4eef-91b2-c3a4d8022a1a"
      },
      "id": "htuuIYhLU1Gx",
      "execution_count": 16,
      "outputs": [
        {
          "output_type": "stream",
          "name": "stdout",
          "text": [
            "\n",
            "--- Walmart ---\n",
            "Exhaustive Search Time: 0.0005 seconds\n",
            "Frequent Itemsets (Exhaustive Search): [({'Headphones'}, 0.3), ({'Smart TV'}, 0.2), ({'Tablet'}, 0.3), ({'Fitness Tracker'}, 0.3), ({'Bluetooth Speaker'}, 0.3), ({'Smart Light Bulb'}, 0.2), ({'External SSD'}, 0.2), ({'Video Game Console'}, 0.2), ({'Fitness Tracker', 'Headphones'}, 0.2), ({'Fitness Tracker', 'Video Game Console'}, 0.2)]\n",
            "\n",
            "Association Rules (Exhaustive Search):\n",
            "Rule 1: ['Video Game Console'] -> ['F', 'i', 't', 'n', 'e', 's', 's', ' ', 'T', 'r', 'a', 'c', 'k', 'e', 'r']\n",
            "Confidence: 100.00%\n",
            "Support: 20.00%\n",
            "\n",
            "Apriori Time: 0.0182 seconds\n",
            "Frequent Itemsets (Apriori):\n",
            "   support                               itemsets\n",
            "0      0.3                           (Headphones)\n",
            "1      0.2                             (Smart TV)\n",
            "2      0.3                               (Tablet)\n",
            "3      0.3                      (Fitness Tracker)\n",
            "4      0.3                    (Bluetooth Speaker)\n",
            "5      0.2                     (Smart Light Bulb)\n",
            "6      0.2                         (External SSD)\n",
            "7      0.2                   (Video Game Console)\n",
            "8      0.2          (Fitness Tracker, Headphones)\n",
            "9      0.2  (Fitness Tracker, Video Game Console)\n",
            "\n",
            "Association Rules (Apriori):\n",
            "Rule 1: ['Video Game Console'] -> ['Fitness Tracker']\n",
            "Confidence: 100.00%\n",
            "Support: 20.00%\n",
            "\n",
            "FP-Growth Time: 0.0080 seconds\n",
            "Frequent Itemsets (FP-Growth):\n",
            "   support                               itemsets\n",
            "0      0.3                    (Bluetooth Speaker)\n",
            "1      0.3                      (Fitness Tracker)\n",
            "2      0.3                           (Headphones)\n",
            "3      0.3                               (Tablet)\n",
            "4      0.2                             (Smart TV)\n",
            "5      0.2                         (External SSD)\n",
            "6      0.2                     (Smart Light Bulb)\n",
            "7      0.2                   (Video Game Console)\n",
            "8      0.2          (Fitness Tracker, Headphones)\n",
            "9      0.2  (Fitness Tracker, Video Game Console)\n",
            "\n",
            "Association Rules (FP-Growth):\n",
            "Rule 1: ['Video Game Console'] -> ['Fitness Tracker']\n",
            "Confidence: 100.00%\n",
            "Support: 20.00%\n",
            "\n",
            "\n",
            "--- Target ---\n",
            "Exhaustive Search Time: 0.0005 seconds\n",
            "Frequent Itemsets (Exhaustive Search): [({'Bedding'}, 0.3), ({'Kitchen Appliances'}, 0.3), ({'Bath Towels'}, 0.3), ({'Wall Art'}, 0.2), ({'Laundry Hamper'}, 0.2), ({'Storage Bins'}, 0.2), ({'Garden Supplies'}, 0.2), ({'Air Fryer'}, 0.2), ({'Coffee Machine'}, 0.2), ({'Bath Towels', 'Kitchen Appliances'}, 0.3)]\n",
            "\n",
            "Association Rules (Exhaustive Search):\n",
            "Rule 1: ['Kitchen Appliances'] -> ['B', 'a', 't', 'h', ' ', 'T', 'o', 'w', 'e', 'l', 's']\n",
            "Confidence: 100.00%\n",
            "Support: 30.00%\n",
            "\n",
            "Rule 2: ['Bath Towels'] -> ['K', 'i', 't', 'c', 'h', 'e', 'n', ' ', 'A', 'p', 'p', 'l', 'i', 'a', 'n', 'c', 'e', 's']\n",
            "Confidence: 100.00%\n",
            "Support: 30.00%\n",
            "\n",
            "Apriori Time: 0.0100 seconds\n",
            "Frequent Itemsets (Apriori):\n",
            "   support                           itemsets\n",
            "0      0.3                          (Bedding)\n",
            "1      0.3               (Kitchen Appliances)\n",
            "2      0.3                      (Bath Towels)\n",
            "3      0.2                         (Wall Art)\n",
            "4      0.2                   (Laundry Hamper)\n",
            "5      0.2                     (Storage Bins)\n",
            "6      0.2                  (Garden Supplies)\n",
            "7      0.2                        (Air Fryer)\n",
            "8      0.2                   (Coffee Machine)\n",
            "9      0.3  (Bath Towels, Kitchen Appliances)\n",
            "\n",
            "Association Rules (Apriori):\n",
            "Rule 1: ['Bath Towels'] -> ['Kitchen Appliances']\n",
            "Confidence: 100.00%\n",
            "Support: 30.00%\n",
            "\n",
            "Rule 2: ['Kitchen Appliances'] -> ['Bath Towels']\n",
            "Confidence: 100.00%\n",
            "Support: 30.00%\n",
            "\n",
            "FP-Growth Time: 0.0058 seconds\n",
            "Frequent Itemsets (FP-Growth):\n",
            "   support                           itemsets\n",
            "0      0.3                      (Bath Towels)\n",
            "1      0.3               (Kitchen Appliances)\n",
            "2      0.3                          (Bedding)\n",
            "3      0.2                        (Air Fryer)\n",
            "4      0.2                   (Laundry Hamper)\n",
            "5      0.2                         (Wall Art)\n",
            "6      0.2                   (Coffee Machine)\n",
            "7      0.2                  (Garden Supplies)\n",
            "8      0.2                     (Storage Bins)\n",
            "9      0.3  (Bath Towels, Kitchen Appliances)\n",
            "\n",
            "Association Rules (FP-Growth):\n",
            "Rule 1: ['Bath Towels'] -> ['Kitchen Appliances']\n",
            "Confidence: 100.00%\n",
            "Support: 30.00%\n",
            "\n",
            "Rule 2: ['Kitchen Appliances'] -> ['Bath Towels']\n",
            "Confidence: 100.00%\n",
            "Support: 30.00%\n",
            "\n",
            "\n",
            "--- Costco ---\n",
            "Exhaustive Search Time: 0.0003 seconds\n",
            "Frequent Itemsets (Exhaustive Search): [({'Television'}, 0.2), ({'Gaming Console'}, 0.3), ({'Laptop'}, 0.2), ({'Wi-Fi Router'}, 0.2), ({'Noise-Canceling Headphones'}, 0.2), ({'Smartwatch'}, 0.3), ({'Portable Speaker'}, 0.2), ({'SSD Drive'}, 0.2), ({'Home Theater'}, 0.2), ({'Video Doorbell'}, 0.2), ({'SSD Drive', 'Home Theater'}, 0.2)]\n",
            "\n",
            "Association Rules (Exhaustive Search):\n",
            "Rule 1: ['Home Theater'] -> ['S', 'S', 'D', ' ', 'D', 'r', 'i', 'v', 'e']\n",
            "Confidence: 100.00%\n",
            "Support: 20.00%\n",
            "\n",
            "Rule 2: ['SSD Drive'] -> ['H', 'o', 'm', 'e', ' ', 'T', 'h', 'e', 'a', 't', 'e', 'r']\n",
            "Confidence: 100.00%\n",
            "Support: 20.00%\n",
            "\n",
            "Apriori Time: 0.0089 seconds\n",
            "Frequent Itemsets (Apriori):\n",
            "    support                      itemsets\n",
            "0       0.2                  (Television)\n",
            "1       0.3              (Gaming Console)\n",
            "2       0.2                      (Laptop)\n",
            "3       0.2                (Wi-Fi Router)\n",
            "4       0.2  (Noise-Canceling Headphones)\n",
            "5       0.3                  (Smartwatch)\n",
            "6       0.2            (Portable Speaker)\n",
            "7       0.2                   (SSD Drive)\n",
            "8       0.2                (Home Theater)\n",
            "9       0.2              (Video Doorbell)\n",
            "10      0.2     (SSD Drive, Home Theater)\n",
            "\n",
            "Association Rules (Apriori):\n",
            "Rule 1: ['SSD Drive'] -> ['Home Theater']\n",
            "Confidence: 100.00%\n",
            "Support: 20.00%\n",
            "\n",
            "Rule 2: ['Home Theater'] -> ['SSD Drive']\n",
            "Confidence: 100.00%\n",
            "Support: 20.00%\n",
            "\n",
            "FP-Growth Time: 0.0080 seconds\n",
            "Frequent Itemsets (FP-Growth):\n",
            "    support                      itemsets\n",
            "0       0.3              (Gaming Console)\n",
            "1       0.2                (Wi-Fi Router)\n",
            "2       0.2                  (Television)\n",
            "3       0.2  (Noise-Canceling Headphones)\n",
            "4       0.2                      (Laptop)\n",
            "5       0.3                  (Smartwatch)\n",
            "6       0.2            (Portable Speaker)\n",
            "7       0.2              (Video Doorbell)\n",
            "8       0.2                (Home Theater)\n",
            "9       0.2                   (SSD Drive)\n",
            "10      0.2     (SSD Drive, Home Theater)\n",
            "\n",
            "Association Rules (FP-Growth):\n",
            "Rule 1: ['SSD Drive'] -> ['Home Theater']\n",
            "Confidence: 100.00%\n",
            "Support: 20.00%\n",
            "\n",
            "Rule 2: ['Home Theater'] -> ['SSD Drive']\n",
            "Confidence: 100.00%\n",
            "Support: 20.00%\n",
            "\n"
          ]
        },
        {
          "output_type": "stream",
          "name": "stderr",
          "text": [
            "/usr/local/lib/python3.10/dist-packages/ipykernel/ipkernel.py:283: DeprecationWarning: `should_run_async` will not call `transform_cell` automatically in the future. Please pass the result to `transformed_cell` argument and any exception that happen during thetransform in `preprocessing_exc_tuple` in IPython 7.17 and above.\n",
            "  and should_run_async(code)\n"
          ]
        }
      ]
    }
  ],
  "metadata": {
    "kernelspec": {
      "display_name": "Python 3 (ipykernel)",
      "language": "python",
      "name": "python3"
    },
    "language_info": {
      "codemirror_mode": {
        "name": "ipython",
        "version": 3
      },
      "file_extension": ".py",
      "mimetype": "text/x-python",
      "name": "python",
      "nbconvert_exporter": "python",
      "pygments_lexer": "ipython3",
      "version": "3.12.4"
    },
    "colab": {
      "provenance": []
    }
  },
  "nbformat": 4,
  "nbformat_minor": 5
}